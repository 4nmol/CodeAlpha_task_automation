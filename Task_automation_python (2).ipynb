{
 "cells": [
  {
   "cell_type": "code",
   "execution_count": 2,
   "id": "5eb9b168-510a-4521-8ab9-3aa48a5fa1fa",
   "metadata": {},
   "outputs": [
    {
     "name": "stdout",
     "output_type": "stream",
     "text": [
      "Defaulting to user installation because normal site-packages is not writeable\n",
      "Collecting schedule\n",
      "  Using cached schedule-1.2.2-py3-none-any.whl.metadata (3.8 kB)\n",
      "Using cached schedule-1.2.2-py3-none-any.whl (12 kB)\n",
      "Installing collected packages: schedule\n",
      "Successfully installed schedule-1.2.2\n",
      "Note: you may need to restart the kernel to use updated packages.\n"
     ]
    }
   ],
   "source": [
    "pip install schedule"
   ]
  },
  {
   "cell_type": "code",
   "execution_count": 2,
   "id": "f82ec954-a398-4c60-9fe0-79a2a256d17c",
   "metadata": {},
   "outputs": [],
   "source": [
    "import schedule  #importing scedule library"
   ]
  },
  {
   "cell_type": "code",
   "execution_count": 3,
   "id": "b44d521f-bdd6-4ad0-936b-aa4e5bfb5e67",
   "metadata": {},
   "outputs": [],
   "source": [
    "import pandas as pd #importing panda library"
   ]
  },
  {
   "cell_type": "code",
   "execution_count": 4,
   "id": "10a12d59-3d19-4ee1-a4a7-0ba2ebb42f88",
   "metadata": {},
   "outputs": [],
   "source": [
    "import time #importing time library "
   ]
  },
  {
   "cell_type": "code",
   "execution_count": 26,
   "id": "fdd50a8b-c7bd-4eed-9511-2c57ce1d44b4",
   "metadata": {},
   "outputs": [
    {
     "name": "stdout",
     "output_type": "stream",
     "text": [
      "     country  age    salary purchased\n",
      "0     india   18.0  10000.0       yes\n",
      "1     india   19.0  20000.0        no\n",
      "2     china   20.0  30000.0       yes\n",
      "3     china   21.0  40000.0       yes\n",
      "4    france   22.0  50000.0        no\n",
      "5   veitnam   23.0  60000.0        no\n",
      "6   thialand  24.0  20000.0       yes\n",
      "7  thiailand  19.0      NaN       NaN\n",
      "8    vietnam   NaN  30000.0        no\n",
      "9      inida   NaN     28.0       NaN\n"
     ]
    }
   ],
   "source": [
    "# Function for data cleaning using python task internship at code alpha\n",
    "def clean_data():\n",
    "    # For loading the data from CSV\n",
    "    df = pd.read_csv('dataset1.csv')\n",
    "    print(df)\n",
    "    \n",
    "clean_data()   "
   ]
  },
  {
   "cell_type": "code",
   "execution_count": 16,
   "id": "08a0f1a0-3a61-4735-8c69-fedc7af3d8f0",
   "metadata": {},
   "outputs": [
    {
     "data": {
      "text/html": [
       "<div>\n",
       "<style scoped>\n",
       "    .dataframe tbody tr th:only-of-type {\n",
       "        vertical-align: middle;\n",
       "    }\n",
       "\n",
       "    .dataframe tbody tr th {\n",
       "        vertical-align: top;\n",
       "    }\n",
       "\n",
       "    .dataframe thead th {\n",
       "        text-align: right;\n",
       "    }\n",
       "</style>\n",
       "<table border=\"1\" class=\"dataframe\">\n",
       "  <thead>\n",
       "    <tr style=\"text-align: right;\">\n",
       "      <th></th>\n",
       "      <th>country</th>\n",
       "      <th>age</th>\n",
       "      <th>salary</th>\n",
       "      <th>purchased</th>\n",
       "    </tr>\n",
       "  </thead>\n",
       "  <tbody>\n",
       "    <tr>\n",
       "      <th>0</th>\n",
       "      <td>india</td>\n",
       "      <td>18.0</td>\n",
       "      <td>10000.0</td>\n",
       "      <td>yes</td>\n",
       "    </tr>\n",
       "    <tr>\n",
       "      <th>1</th>\n",
       "      <td>india</td>\n",
       "      <td>19.0</td>\n",
       "      <td>20000.0</td>\n",
       "      <td>no</td>\n",
       "    </tr>\n",
       "    <tr>\n",
       "      <th>2</th>\n",
       "      <td>china</td>\n",
       "      <td>20.0</td>\n",
       "      <td>30000.0</td>\n",
       "      <td>yes</td>\n",
       "    </tr>\n",
       "    <tr>\n",
       "      <th>3</th>\n",
       "      <td>china</td>\n",
       "      <td>21.0</td>\n",
       "      <td>40000.0</td>\n",
       "      <td>yes</td>\n",
       "    </tr>\n",
       "    <tr>\n",
       "      <th>4</th>\n",
       "      <td>france</td>\n",
       "      <td>22.0</td>\n",
       "      <td>50000.0</td>\n",
       "      <td>no</td>\n",
       "    </tr>\n",
       "    <tr>\n",
       "      <th>5</th>\n",
       "      <td>veitnam</td>\n",
       "      <td>23.0</td>\n",
       "      <td>60000.0</td>\n",
       "      <td>no</td>\n",
       "    </tr>\n",
       "    <tr>\n",
       "      <th>6</th>\n",
       "      <td>thialand</td>\n",
       "      <td>24.0</td>\n",
       "      <td>20000.0</td>\n",
       "      <td>yes</td>\n",
       "    </tr>\n",
       "    <tr>\n",
       "      <th>7</th>\n",
       "      <td>thiailand</td>\n",
       "      <td>19.0</td>\n",
       "      <td>NaN</td>\n",
       "      <td>NaN</td>\n",
       "    </tr>\n",
       "    <tr>\n",
       "      <th>8</th>\n",
       "      <td>vietnam</td>\n",
       "      <td>NaN</td>\n",
       "      <td>30000.0</td>\n",
       "      <td>no</td>\n",
       "    </tr>\n",
       "    <tr>\n",
       "      <th>9</th>\n",
       "      <td>inida</td>\n",
       "      <td>NaN</td>\n",
       "      <td>28.0</td>\n",
       "      <td>NaN</td>\n",
       "    </tr>\n",
       "  </tbody>\n",
       "</table>\n",
       "</div>"
      ],
      "text/plain": [
       "     country  age    salary purchased\n",
       "0     india   18.0  10000.0       yes\n",
       "1     india   19.0  20000.0        no\n",
       "2     china   20.0  30000.0       yes\n",
       "3     china   21.0  40000.0       yes\n",
       "4    france   22.0  50000.0        no\n",
       "5   veitnam   23.0  60000.0        no\n",
       "6   thialand  24.0  20000.0       yes\n",
       "7  thiailand  19.0      NaN       NaN\n",
       "8    vietnam   NaN  30000.0        no\n",
       "9      inida   NaN     28.0       NaN"
      ]
     },
     "execution_count": 16,
     "metadata": {},
     "output_type": "execute_result"
    }
   ],
   "source": [
    "df = pd.read_csv('dataset1.csv')\n",
    "df"
   ]
  },
  {
   "cell_type": "code",
   "execution_count": 28,
   "id": "a88ca4c6-4189-445d-8e86-11265ee1b84a",
   "metadata": {},
   "outputs": [
    {
     "name": "stdout",
     "output_type": "stream",
     "text": [
      "     country  age    salary purchased\n",
      "0     india   18.0  10000.0       yes\n",
      "1     india   19.0  20000.0        no\n",
      "2     china   20.0  30000.0       yes\n",
      "3     china   21.0  40000.0       yes\n",
      "4    france   22.0  50000.0        no\n",
      "5   veitnam   23.0  60000.0        no\n",
      "6   thialand  24.0  20000.0       yes\n",
      "7  thiailand  19.0      0.0         0\n",
      "8    vietnam   0.0  30000.0        no\n",
      "9      inida   0.0     28.0         0\n"
     ]
    }
   ],
   "source": [
    "# Function for data cleaning using python task internship at code alpha\n",
    "def clean_data():\n",
    "    # For loading the data from CSV\n",
    "    df = pd.read_csv('dataset1.csv')\n",
    "    \n",
    "    # filling missing values with 0 zero\n",
    "    df.fillna(0, inplace=True)\n",
    "    print(df)\n",
    "\n",
    "\n",
    "clean_data()       \n",
    "    \n"
   ]
  },
  {
   "cell_type": "code",
   "execution_count": 29,
   "id": "5b2b4f0b-1641-4b26-aef2-d73f0c4d4964",
   "metadata": {},
   "outputs": [
    {
     "name": "stdout",
     "output_type": "stream",
     "text": [
      "     country  age    salary purchased\n",
      "0     india   18.0  10000.0       yes\n",
      "1     india   19.0  20000.0        no\n",
      "2     china   20.0  30000.0       yes\n",
      "3     china   21.0  40000.0       yes\n",
      "4    france   22.0  50000.0        no\n",
      "5   veitnam   23.0  60000.0        no\n",
      "6   thialand  24.0  20000.0       yes\n",
      "7  thiailand  19.0      0.0         0\n",
      "8    vietnam   0.0  30000.0        no\n",
      "9      inida   0.0     28.0         0\n"
     ]
    }
   ],
   "source": [
    "# Function for data cleaning using python task internship at code alpha\n",
    "def clean_data():\n",
    "    # For loading the data from CSV\n",
    "    df = pd.read_csv('dataset1.csv')\n",
    "    \n",
    "    # filling missing values with 0 zero\n",
    "    df.fillna(0, inplace=True)\n",
    "\n",
    "     # Removing duplicate values\n",
    "    df.drop_duplicates(inplace=True)\n",
    "    \n",
    "    print(df)\n",
    "clean_data()       \n",
    "    \n"
   ]
  },
  {
   "cell_type": "code",
   "execution_count": 33,
   "id": "7ef85c50-2279-4e0a-b512-fe4f6f459f30",
   "metadata": {},
   "outputs": [
    {
     "name": "stdout",
     "output_type": "stream",
     "text": [
      "     country  age    salary purchased\n",
      "0      india  18.0  10000.0       yes\n",
      "1      india  19.0  20000.0        no\n",
      "2      china  20.0  30000.0       yes\n",
      "3      china  21.0  40000.0       yes\n",
      "4     france  22.0  50000.0        no\n",
      "5    veitnam  23.0  60000.0        no\n",
      "6   thialand  24.0  20000.0       yes\n",
      "7  thiailand  19.0      0.0         0\n",
      "8    vietnam   0.0  30000.0        no\n",
      "9      inida   0.0     28.0         0\n"
     ]
    }
   ],
   "source": [
    "def clean_data():\n",
    "    # For loading the data from CSV\n",
    "    df = pd.read_csv('dataset1.csv')\n",
    "    \n",
    "    # filling missing values with 0 zero\n",
    "    df.fillna(0, inplace=True)\n",
    "\n",
    "     # Removing duplicate values\n",
    "    df.drop_duplicates(inplace=True)\n",
    "\n",
    "     # Trimming whitespaces and coverting uppercase to lower case in country column\n",
    "    if 'country' in df.columns:\n",
    "        df['country'] = df['country'].str.strip().str.lower()\n",
    "    \n",
    "    print(df)\n",
    "    \n",
    "clean_data()       \n",
    "    \n"
   ]
  },
  {
   "cell_type": "code",
   "execution_count": 37,
   "id": "5e83ed5d-8dc3-4d21-9b94-4942aed6bd83",
   "metadata": {},
   "outputs": [
    {
     "name": "stdout",
     "output_type": "stream",
     "text": [
      "Data cleaning completed and saved.\n",
      "     country  age    salary purchased\n",
      "0      india  18.0  10000.0       yes\n",
      "1      india  19.0  20000.0        no\n",
      "2      china  20.0  30000.0       yes\n",
      "3      china  21.0  40000.0       yes\n",
      "4     france  22.0  50000.0        no\n",
      "5    veitnam  23.0  60000.0        no\n",
      "6   thialand  24.0  20000.0       yes\n",
      "7  thiailand  19.0      0.0         0\n",
      "8    vietnam   0.0  30000.0        no\n",
      "9      inida   0.0     28.0         0\n"
     ]
    }
   ],
   "source": [
    "def clean_data():\n",
    "    # For loading the data from CSV\n",
    "    df = pd.read_csv('dataset1.csv')\n",
    "    \n",
    "    # filling missing values with 0 zero\n",
    "    df.fillna(0, inplace=True)\n",
    "\n",
    "     # Removing duplicate values\n",
    "    df.drop_duplicates(inplace=True)\n",
    "\n",
    "     # Trimming whitespaces and coverting uppercase to lower case in country column\n",
    "    if 'country' in df.columns:\n",
    "        df['country'] = df['country'].str.strip().str.lower()\n",
    "\n",
    "    # Saving cleaned data to a new CSV\n",
    "    df.to_csv('cleaned_data.csv', index=False)\n",
    "    print(\"Data cleaning completed and saved.\")\n",
    "\n",
    "    # Schedule the task to run every day at 10:00 AM\n",
    "    schedule.every().day.at(\"11:51\").do(clean_data)\n",
    "\n",
    "    \n",
    "    \n",
    "    print(df)\n",
    "    \n",
    "clean_data()       \n",
    "    \n"
   ]
  },
  {
   "cell_type": "code",
   "execution_count": null,
   "id": "fdbc0c43-bc27-41d9-86df-62ebb5c00805",
   "metadata": {},
   "outputs": [
    {
     "name": "stdout",
     "output_type": "stream",
     "text": [
      "Data cleaning completed and saved.\n"
     ]
    }
   ],
   "source": [
    "def clean_data():\n",
    "    # For loading the data from CSV\n",
    "    df = pd.read_csv('dataset1.csv')\n",
    "    \n",
    "    # filling missing values with 0 zero\n",
    "    df.fillna(0, inplace=True)\n",
    "\n",
    "     # Removing duplicate values\n",
    "    df.drop_duplicates(inplace=True)\n",
    "\n",
    "     # Trimming whitespaces and coverting uppercase to lower case in country column\n",
    "    if 'country' in df.columns:\n",
    "        df['country'] = df['country'].str.strip().str.lower()\n",
    "\n",
    "    # Saving cleaned data to a new CSV\n",
    "    df.to_csv('cleaned_data.csv', index=False)\n",
    "    print(\"Data cleaning completed and saved.\")\n",
    "\n",
    "    # Scheduling  the task to run every day at 10:53 AM\n",
    "    schedule.every().day.at(\"10:53\").do(clean_data)\n",
    "\n",
    "    while True:\n",
    "        schedule.run_pending()\n",
    "        time.sleep(1)\n",
    "    \n",
    "    print(df)\n",
    "    \n",
    "clean_data()       \n",
    "    "
   ]
  },
  {
   "cell_type": "code",
   "execution_count": null,
   "id": "6671ccf2-6365-485d-bbcb-dfc9948173af",
   "metadata": {},
   "outputs": [],
   "source": []
  }
 ],
 "metadata": {
  "kernelspec": {
   "display_name": "Python 3 (ipykernel)",
   "language": "python",
   "name": "python3"
  },
  "language_info": {
   "codemirror_mode": {
    "name": "ipython",
    "version": 3
   },
   "file_extension": ".py",
   "mimetype": "text/x-python",
   "name": "python",
   "nbconvert_exporter": "python",
   "pygments_lexer": "ipython3",
   "version": "3.12.4"
  }
 },
 "nbformat": 4,
 "nbformat_minor": 5
}
